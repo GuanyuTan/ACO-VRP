{
  "nbformat": 4,
  "nbformat_minor": 0,
  "metadata": {
    "colab": {
      "provenance": []
    },
    "kernelspec": {
      "name": "python3",
      "display_name": "Python 3"
    },
    "language_info": {
      "name": "python"
    }
  },
  "cells": [
    {
      "cell_type": "code",
      "execution_count": 174,
      "metadata": {
        "id": "PZi9fUPU_UCH"
      },
      "outputs": [],
      "source": [
        "import numpy as np\n",
        "import sklearn\n",
        "import scipy\n",
        "import matplotlib.pyplot as plt\n",
        "import networkx as nx\n",
        "import pandas as pd"
      ]
    },
    {
      "cell_type": "code",
      "source": [
        "coordinates = [\n",
        "[4.4184, 114.0932],\n",
        "[4.3555,\t113.9777],\n",
        "[4.3976,\t114.0049],\n",
        "[4.3163,\t114.0764],\n",
        "[4.3184,\t113.9932],\n",
        "[4.4024,\t113.9896],\n",
        "[4.4142,\t114.0127],\n",
        "[4.4804,  114.0734],\n",
        "[4.3818,\t114.2034],\n",
        "[4.4935,\t114.1828],\n",
        "[4.4932,\t114.1322],]\n",
        "\n",
        "vehicles = {\n",
        "    0: {\"cost_weight\": 1.2,\n",
        "        \"capacity\": 25},\n",
        "    1: {\"cost_weight\": 1.5,\n",
        "        \"capacity\": 30},\n",
        "}\n",
        "\n",
        "demands = [0,5,8,3,6,5,8,3,6,5,8]"
      ],
      "metadata": {
        "id": "sjzJT5w2Yhky"
      },
      "execution_count": 175,
      "outputs": []
    },
    {
      "cell_type": "code",
      "source": [
        "class Ant:\n",
        "  def __init__(self, graph, vehicles, start_index=0):\n",
        "    super().__init__()\n",
        "    # ISSUE, does vehicle order affect the output. Case 1: the assigned demands are way less that what's provided for each vehicles\n",
        "    # Consider sorting vehicles based on\n",
        "    self.graph = graph\n",
        "    self.current_index = start_index\n",
        "    self.trips = 0\n",
        "    self.vehicle_capacity = [vehicles[index]['capacity'] for index in range(len(vehicles))]\n",
        "    self.vehicle_load = [0 for _ in vehicles]\n",
        "    self.cost_weights = [vehicles[index]['cost_weight'] for index in range(len(vehicles))]\n",
        "    self.path = [[start_index,] for _ in range(len(vehicles))]\n",
        "    self.to_visit = list(range(1, graph.num_nodes))\n",
        "    self.total_traveled_distance = 0\n",
        "    self.total_cost = 0\n",
        "\n",
        "  def move_next(self, next_index):\n",
        "    self.path[self.trips].append(next_index)\n",
        "    self.total_traveled_distance +=self.graph.distances[self.current_index, next_index]\n",
        "    if next_index==0:\n",
        "      self.vehicle_load[self.trips] = 0\n",
        "      self.trips += 1\n",
        "    else:\n",
        "      self.vehicle_load[self.trips] += self.graph.demands[next_index]\n",
        "      self.to_visit.remove(next_index)\n",
        "\n",
        "  def check_condition(self, next_index):\n",
        "    if self.vehicle_load[self.trips]+ self.graph.demands[next_index]>= self.vehicle_capacity[self.trips]:\n",
        "      return False\n",
        "    return True\n",
        "\n",
        "  def filter_next_index(self):\n",
        "    filtered_next_indices = []\n",
        "    for next_ind in self.to_visit:\n",
        "      if self.check_condition(next_ind):\n",
        "        filtered_next_indices.append(next_ind)\n",
        "    return filtered_next_indices\n",
        "\n",
        "  def select_next_index(self, to_visit):\n",
        "    # get transition from current index to all other indices\n",
        "    transition_prob = self.graph.pheromone[self.current_index][to_visit]\n",
        "    transition_prob = transition_prob / np.sum(transition_prob)\n",
        "\n",
        "    if np.random.random_sample()<self.graph.rho:\n",
        "      next_index = to_visit[np.argmax(transition_prob)]\n",
        "\n",
        "    else:\n",
        "      next_index = np.random.choice(to_visit, p=transition_prob)\n",
        "    return next_index\n",
        "\n",
        "  def compute_solution(self):\n",
        "    # get a sample solution\n",
        "    # while there are still nodes to visit\n",
        "    while(len(self.to_visit)>0):\n",
        "      if self.trips == len(self.vehicle_capacity):\n",
        "        break\n",
        "      # select an index based on pheromone probabilities\n",
        "      next_index = self.select_next_index(self.to_visit)\n",
        "\n",
        "      # nodes that are excluded for current vehicle\n",
        "      excluded = []\n",
        "\n",
        "      # check constraints\n",
        "      if self.check_condition(next_index):\n",
        "        self.move_next(next_index)\n",
        "      else:\n",
        "        copy_to_visit = [n for n in self.to_visit]\n",
        "        while not self.check_condition(next_index) and len(copy_to_visit)>0:\n",
        "\n",
        "          # if we run out of nodes to visit\n",
        "          next_index = self.select_next_index(copy_to_visit)\n",
        "          excluded.append(next_index)\n",
        "          copy_to_visit.remove(next_index)\n",
        "        if not len(copy_to_visit) ==0:\n",
        "          self.move_next(next_index)\n",
        "        else:\n",
        "          self.move_next(0)\n",
        "\n",
        "\n",
        "\n",
        "    demands_fulfilled = 0\n",
        "\n",
        "    for path in self.path:\n",
        "      for index in path:\n",
        "        demands_fulfilled += demands[index]\n",
        "    return {\"path\": self.path, \"cost\": self.compute_cost(), \"demands_fulfilled\": demands_fulfilled}\n",
        "\n",
        "  def compute_cost(self):\n",
        "    # compute cost based on trips and vehicle cost multiplier/weights\n",
        "    cost = 0\n",
        "    for trip in range(self.trips):\n",
        "      path = self.path[trip]\n",
        "      # get total distance\n",
        "      distance = sum([self.graph.distances[index-1,index] for index in range(1, len(path))])\n",
        "      cost += distance*self.cost_weights[trip]\n",
        "    return cost"
      ],
      "metadata": {
        "id": "c2o-49DSMc4Q"
      },
      "execution_count": 176,
      "outputs": []
    },
    {
      "cell_type": "markdown",
      "source": [
        "$$P = (1-ρ)\\times P+\\frac{ρ}{costs}$$\n",
        "\n",
        "\n"
      ],
      "metadata": {
        "id": "b0k9OsACKazP"
      }
    },
    {
      "cell_type": "code",
      "source": [
        "class Graph:\n",
        "  def __init__(self, coordinates, demands, vehicles, rho=0.3):\n",
        "    self.coordinates = coordinates\n",
        "    # pheremone dispersion factor\n",
        "    self.rho = rho\n",
        "\n",
        "    self.num_nodes = len(coordinates)\n",
        "    self.demands = demands\n",
        "    self.vehicles = vehicles\n",
        "    self.distances = self.compute_distance_matrix()\n",
        "    # self.visibility = 1/self.distances\n",
        "    # self.initial_pheromone = np.ones_like(self.distances)\n",
        "    self.pheromone = np.ones((self.num_nodes, self.num_nodes))\n",
        "\n",
        "\n",
        "  def compute_distance_matrix(self):\n",
        "    distances = np.zeros((self.num_nodes,self.num_nodes))\n",
        "    for i in range(len(self.coordinates)):\n",
        "      for j in range(len(self.coordinates)):\n",
        "        distances[i, j] = self.calculate_distance(self.coordinates[i], self.coordinates[j])\n",
        "    return distances\n",
        "\n",
        "\n",
        "  @staticmethod\n",
        "  def calculate_distance(a, b):\n",
        "    return 100*np.sqrt((a[0]-b[0])**2 + (a[1]-b[1])**2)\n",
        "\n",
        "\n",
        "def updatePheromone(graph, solutions, best_solution):\n",
        "  # compute pheromone based on cost\n",
        "  # Intuition, we want the pheromone to be lower when cost is higher\n",
        "  # use pheromone += pheromone_factor/cost\n",
        "  graph.pheromone = (1-graph.rho) * graph.pheromone\n",
        "  solution_df = pd.DataFrame()\n",
        "  solution_df = solution_df.from_dict(solutions)\n",
        "  solution_df = solution_df.sort_values(by=[\"demands_fulfilled\", \"cost\"], ascending=[False, True])\n",
        "  top = solution_df.iloc[0].to_dict()\n",
        "  if best_solution!=None:\n",
        "    if best_solution[\"demands_fulfilled\"]<top[\"demands_fulfilled\"]:\n",
        "      best_solution = solution_df[0].to_dict()\n",
        "    elif best_solution[\"demands_fulfilled\"]==top[\"demands_fulfilled\"]:\n",
        "      if best_solution[\"cost\"]>top[\"cost\"]:\n",
        "        best_solution = top\n",
        "  else:\n",
        "    best_solution = top\n",
        "  paths = best_solution['path']\n",
        "  for path in paths:\n",
        "    current_ind = 0\n",
        "    for next_ind in path[1:]:\n",
        "      graph.pheromone[current_ind][next_ind] += graph.rho/best_solution['cost']\n",
        "      current_ind = next_ind\n",
        "  return best_solution\n",
        "\n",
        "def compute_distances(graph, paths):\n",
        "  distances = []\n",
        "  for path in paths:\n",
        "    distance = sum([graph.distances[index-1,index] for index in range(1, len(path))])\n",
        "    distances.append(distance)\n",
        "  return distances\n",
        "\n",
        "\n",
        "iterations = 10\n",
        "num_ants = 100\n",
        "best_solution = None\n",
        "graph = Graph(coordinates, demands, vehicles, rho=0.1)\n",
        "for i in range(iterations):\n",
        "  ants = [Ant(graph, vehicles) for _ in range(num_ants)]\n",
        "  solutions = list()\n",
        "  for i, ant in enumerate(ants):\n",
        "    solution = ant.compute_solution()\n",
        "    solutions.append(solution)\n",
        "  best_solution = updatePheromone(graph, solutions, best_solution)\n",
        "distances = compute_distances(graph, best_solution['path'])\n",
        "\n",
        "\n"
      ],
      "metadata": {
        "id": "pSobnKiNhyH0"
      },
      "execution_count": 185,
      "outputs": []
    },
    {
      "cell_type": "code",
      "source": [
        "paths = best_solution[\"path\"]\n",
        "print(f'Total Distance = {sum(distances)} km')\n",
        "print(f'Total Cost = RM{best_solution[\"cost\"]}')\n",
        "for i in range(0, len(vehicles)):\n",
        "  print(f'Vehicle {i+1}:')\n",
        "  print(f'Round Trip Distance: {distances[i]} km, Cost: RM {vehicles[i][\"cost_weight\"]*distances[i]}, Demand: {sum(demands[j] for j in best_solution[\"path\"][i])}')\n",
        "  print(f'')"
      ],
      "metadata": {
        "colab": {
          "base_uri": "https://localhost:8080/"
        },
        "id": "9dNJHJ3X3grT",
        "outputId": "a1aa2cfb-308e-4273-86cf-3137f306ab07"
      },
      "execution_count": 186,
      "outputs": [
        {
          "output_type": "stream",
          "name": "stdout",
          "text": [
            "Total Distance = 94.0360615136224 km\n",
            "Total Cost = RM126.55959275823783\n",
            "Vehicle 1:\n",
            "Round Trip Distance: 48.31499837398595 km, Cost: RM 57.977998048783135, Demand: 24\n",
            "\n",
            "Vehicle 2:\n",
            "Round Trip Distance: 45.721063139636456 km, Cost: RM 68.58159470945469, Demand: 28\n",
            "\n"
          ]
        }
      ]
    },
    {
      "cell_type": "code",
      "source": [
        "import itertools\n",
        "edges = []\n",
        "for path in paths:\n",
        "  pairs = ([path[i-1], path[i]] for i in range(1,len(path)))\n",
        "  edges.append(list(pairs))\n"
      ],
      "metadata": {
        "id": "ui67uiarxbtO"
      },
      "execution_count": 222,
      "outputs": []
    },
    {
      "cell_type": "code",
      "source": [
        "print(edges)"
      ],
      "metadata": {
        "colab": {
          "base_uri": "https://localhost:8080/"
        },
        "id": "0d7YD_-i9dGY",
        "outputId": "8b937834-4b88-4598-f510-7bbb97e8b400"
      },
      "execution_count": 223,
      "outputs": [
        {
          "output_type": "stream",
          "name": "stdout",
          "text": [
            "[[[0, 10], [10, 9], [9, 1], [1, 3], [3, 7], [7, 0]], [[0, 6], [6, 4], [4, 8], [8, 2], [2, 0]]]\n"
          ]
        }
      ]
    },
    {
      "cell_type": "code",
      "source": [
        "some = []\n",
        "for lists in list(edges):\n",
        "  some+=lists"
      ],
      "metadata": {
        "id": "r8878_uW8C90"
      },
      "execution_count": 226,
      "outputs": []
    },
    {
      "cell_type": "code",
      "source": [
        "print(some)"
      ],
      "metadata": {
        "colab": {
          "base_uri": "https://localhost:8080/"
        },
        "id": "-zlg02fD-IWT",
        "outputId": "5e429fba-3fbe-425a-f323-48d57aeaba96"
      },
      "execution_count": 227,
      "outputs": [
        {
          "output_type": "stream",
          "name": "stdout",
          "text": [
            "[[0, 10], [10, 9], [9, 1], [1, 3], [3, 7], [7, 0], [0, 6], [6, 4], [4, 8], [8, 2], [2, 0]]\n"
          ]
        }
      ]
    },
    {
      "cell_type": "code",
      "source": [
        "G =  nx.DiGraph()\n",
        "for edge in some:\n",
        "  G.add_edge()"
      ],
      "metadata": {
        "id": "QfmXoD1o4L40"
      },
      "execution_count": 231,
      "outputs": []
    },
    {
      "cell_type": "code",
      "source": [
        "coordinates = np.array(coordinates)\n",
        "positions = coordinates-coordinates[0]\n",
        "path_positions = {i:positions[i] for i  in range(len(coordinates))}"
      ],
      "metadata": {
        "id": "9ttw5Jm84vfe"
      },
      "execution_count": 232,
      "outputs": []
    },
    {
      "cell_type": "code",
      "source": [
        "\n",
        "fig, ax = plt.subplots()\n",
        "\n",
        "nx.draw_networkx(G, pos=path_positions, ax=ax, with_labels=True, edge_list=[G.get_edge(edge) for edge in edges[0]], edge_color=\"red\")\n",
        "nx.draw_networkx(G, pos=path_positions, ax=ax, with_labels=True, edge_list=[G.get_edge(edge) for edge in edges[1]], edge_color=\"blue\")\n",
        "ax.set_title(\"DAG layout in topological order\")\n",
        "fig.tight_layout()\n",
        "plt.show()"
      ],
      "metadata": {
        "colab": {
          "base_uri": "https://localhost:8080/",
          "height": 750
        },
        "id": "eaw6lEUn4WQW",
        "outputId": "98ee351e-cf71-4014-caee-e5bfea423385"
      },
      "execution_count": 233,
      "outputs": [
        {
          "output_type": "error",
          "ename": "AttributeError",
          "evalue": "'Graph' object has no attribute 'get_edge'",
          "traceback": [
            "\u001b[0;31m---------------------------------------------------------------------------\u001b[0m",
            "\u001b[0;31mAttributeError\u001b[0m                            Traceback (most recent call last)",
            "\u001b[0;32m<ipython-input-233-2d53bddd8ab6>\u001b[0m in \u001b[0;36m<cell line: 3>\u001b[0;34m()\u001b[0m\n\u001b[1;32m      1\u001b[0m \u001b[0mfig\u001b[0m\u001b[0;34m,\u001b[0m \u001b[0max\u001b[0m \u001b[0;34m=\u001b[0m \u001b[0mplt\u001b[0m\u001b[0;34m.\u001b[0m\u001b[0msubplots\u001b[0m\u001b[0;34m(\u001b[0m\u001b[0;34m)\u001b[0m\u001b[0;34m\u001b[0m\u001b[0;34m\u001b[0m\u001b[0m\n\u001b[1;32m      2\u001b[0m \u001b[0;34m\u001b[0m\u001b[0m\n\u001b[0;32m----> 3\u001b[0;31m \u001b[0mnx\u001b[0m\u001b[0;34m.\u001b[0m\u001b[0mdraw_networkx\u001b[0m\u001b[0;34m(\u001b[0m\u001b[0mG\u001b[0m\u001b[0;34m,\u001b[0m \u001b[0mpos\u001b[0m\u001b[0;34m=\u001b[0m\u001b[0mpath_positions\u001b[0m\u001b[0;34m,\u001b[0m \u001b[0max\u001b[0m\u001b[0;34m=\u001b[0m\u001b[0max\u001b[0m\u001b[0;34m,\u001b[0m \u001b[0mwith_labels\u001b[0m\u001b[0;34m=\u001b[0m\u001b[0;32mTrue\u001b[0m\u001b[0;34m,\u001b[0m \u001b[0medge_list\u001b[0m\u001b[0;34m=\u001b[0m\u001b[0;34m[\u001b[0m\u001b[0mG\u001b[0m\u001b[0;34m.\u001b[0m\u001b[0mget_edge\u001b[0m\u001b[0;34m(\u001b[0m\u001b[0medge\u001b[0m\u001b[0;34m)\u001b[0m \u001b[0;32mfor\u001b[0m \u001b[0medge\u001b[0m \u001b[0;32min\u001b[0m \u001b[0medges\u001b[0m\u001b[0;34m[\u001b[0m\u001b[0;36m0\u001b[0m\u001b[0;34m]\u001b[0m\u001b[0;34m]\u001b[0m\u001b[0;34m,\u001b[0m \u001b[0medge_color\u001b[0m\u001b[0;34m=\u001b[0m\u001b[0;34m\"red\"\u001b[0m\u001b[0;34m)\u001b[0m\u001b[0;34m\u001b[0m\u001b[0;34m\u001b[0m\u001b[0m\n\u001b[0m\u001b[1;32m      4\u001b[0m \u001b[0mnx\u001b[0m\u001b[0;34m.\u001b[0m\u001b[0mdraw_networkx\u001b[0m\u001b[0;34m(\u001b[0m\u001b[0mG\u001b[0m\u001b[0;34m,\u001b[0m \u001b[0mpos\u001b[0m\u001b[0;34m=\u001b[0m\u001b[0mpath_positions\u001b[0m\u001b[0;34m,\u001b[0m \u001b[0max\u001b[0m\u001b[0;34m=\u001b[0m\u001b[0max\u001b[0m\u001b[0;34m,\u001b[0m \u001b[0mwith_labels\u001b[0m\u001b[0;34m=\u001b[0m\u001b[0;32mTrue\u001b[0m\u001b[0;34m,\u001b[0m \u001b[0medge_list\u001b[0m\u001b[0;34m=\u001b[0m\u001b[0;34m[\u001b[0m\u001b[0mG\u001b[0m\u001b[0;34m.\u001b[0m\u001b[0mget_edge\u001b[0m\u001b[0;34m(\u001b[0m\u001b[0medge\u001b[0m\u001b[0;34m)\u001b[0m \u001b[0;32mfor\u001b[0m \u001b[0medge\u001b[0m \u001b[0;32min\u001b[0m \u001b[0medges\u001b[0m\u001b[0;34m[\u001b[0m\u001b[0;36m1\u001b[0m\u001b[0;34m]\u001b[0m\u001b[0;34m]\u001b[0m\u001b[0;34m,\u001b[0m \u001b[0medge_color\u001b[0m\u001b[0;34m=\u001b[0m\u001b[0;34m\"blue\"\u001b[0m\u001b[0;34m)\u001b[0m\u001b[0;34m\u001b[0m\u001b[0;34m\u001b[0m\u001b[0m\n\u001b[1;32m      5\u001b[0m \u001b[0max\u001b[0m\u001b[0;34m.\u001b[0m\u001b[0mset_title\u001b[0m\u001b[0;34m(\u001b[0m\u001b[0;34m\"DAG layout in topological order\"\u001b[0m\u001b[0;34m)\u001b[0m\u001b[0;34m\u001b[0m\u001b[0;34m\u001b[0m\u001b[0m\n",
            "\u001b[0;32m<ipython-input-233-2d53bddd8ab6>\u001b[0m in \u001b[0;36m<listcomp>\u001b[0;34m(.0)\u001b[0m\n\u001b[1;32m      1\u001b[0m \u001b[0mfig\u001b[0m\u001b[0;34m,\u001b[0m \u001b[0max\u001b[0m \u001b[0;34m=\u001b[0m \u001b[0mplt\u001b[0m\u001b[0;34m.\u001b[0m\u001b[0msubplots\u001b[0m\u001b[0;34m(\u001b[0m\u001b[0;34m)\u001b[0m\u001b[0;34m\u001b[0m\u001b[0;34m\u001b[0m\u001b[0m\n\u001b[1;32m      2\u001b[0m \u001b[0;34m\u001b[0m\u001b[0m\n\u001b[0;32m----> 3\u001b[0;31m \u001b[0mnx\u001b[0m\u001b[0;34m.\u001b[0m\u001b[0mdraw_networkx\u001b[0m\u001b[0;34m(\u001b[0m\u001b[0mG\u001b[0m\u001b[0;34m,\u001b[0m \u001b[0mpos\u001b[0m\u001b[0;34m=\u001b[0m\u001b[0mpath_positions\u001b[0m\u001b[0;34m,\u001b[0m \u001b[0max\u001b[0m\u001b[0;34m=\u001b[0m\u001b[0max\u001b[0m\u001b[0;34m,\u001b[0m \u001b[0mwith_labels\u001b[0m\u001b[0;34m=\u001b[0m\u001b[0;32mTrue\u001b[0m\u001b[0;34m,\u001b[0m \u001b[0medge_list\u001b[0m\u001b[0;34m=\u001b[0m\u001b[0;34m[\u001b[0m\u001b[0mG\u001b[0m\u001b[0;34m.\u001b[0m\u001b[0mget_edge\u001b[0m\u001b[0;34m(\u001b[0m\u001b[0medge\u001b[0m\u001b[0;34m)\u001b[0m \u001b[0;32mfor\u001b[0m \u001b[0medge\u001b[0m \u001b[0;32min\u001b[0m \u001b[0medges\u001b[0m\u001b[0;34m[\u001b[0m\u001b[0;36m0\u001b[0m\u001b[0;34m]\u001b[0m\u001b[0;34m]\u001b[0m\u001b[0;34m,\u001b[0m \u001b[0medge_color\u001b[0m\u001b[0;34m=\u001b[0m\u001b[0;34m\"red\"\u001b[0m\u001b[0;34m)\u001b[0m\u001b[0;34m\u001b[0m\u001b[0;34m\u001b[0m\u001b[0m\n\u001b[0m\u001b[1;32m      4\u001b[0m \u001b[0mnx\u001b[0m\u001b[0;34m.\u001b[0m\u001b[0mdraw_networkx\u001b[0m\u001b[0;34m(\u001b[0m\u001b[0mG\u001b[0m\u001b[0;34m,\u001b[0m \u001b[0mpos\u001b[0m\u001b[0;34m=\u001b[0m\u001b[0mpath_positions\u001b[0m\u001b[0;34m,\u001b[0m \u001b[0max\u001b[0m\u001b[0;34m=\u001b[0m\u001b[0max\u001b[0m\u001b[0;34m,\u001b[0m \u001b[0mwith_labels\u001b[0m\u001b[0;34m=\u001b[0m\u001b[0;32mTrue\u001b[0m\u001b[0;34m,\u001b[0m \u001b[0medge_list\u001b[0m\u001b[0;34m=\u001b[0m\u001b[0;34m[\u001b[0m\u001b[0mG\u001b[0m\u001b[0;34m.\u001b[0m\u001b[0mget_edge\u001b[0m\u001b[0;34m(\u001b[0m\u001b[0medge\u001b[0m\u001b[0;34m)\u001b[0m \u001b[0;32mfor\u001b[0m \u001b[0medge\u001b[0m \u001b[0;32min\u001b[0m \u001b[0medges\u001b[0m\u001b[0;34m[\u001b[0m\u001b[0;36m1\u001b[0m\u001b[0;34m]\u001b[0m\u001b[0;34m]\u001b[0m\u001b[0;34m,\u001b[0m \u001b[0medge_color\u001b[0m\u001b[0;34m=\u001b[0m\u001b[0;34m\"blue\"\u001b[0m\u001b[0;34m)\u001b[0m\u001b[0;34m\u001b[0m\u001b[0;34m\u001b[0m\u001b[0m\n\u001b[1;32m      5\u001b[0m \u001b[0max\u001b[0m\u001b[0;34m.\u001b[0m\u001b[0mset_title\u001b[0m\u001b[0;34m(\u001b[0m\u001b[0;34m\"DAG layout in topological order\"\u001b[0m\u001b[0;34m)\u001b[0m\u001b[0;34m\u001b[0m\u001b[0;34m\u001b[0m\u001b[0m\n",
            "\u001b[0;31mAttributeError\u001b[0m: 'Graph' object has no attribute 'get_edge'"
          ]
        },
        {
          "output_type": "display_data",
          "data": {
            "text/plain": [
              "<Figure size 640x480 with 1 Axes>"
            ],
            "image/png": "[encoded data removed]"
          },
          "metadata": {}
        }
      ]
    },
    {
      "cell_type": "markdown",
      "source": [
        "Intuition: Treat multiple vehicles like one vehicle with multiple trips where we visit depot n times.\n",
        "\n",
        "Constraints:\n",
        "\n",
        "Every node should be only visited once.\n",
        "\n",
        "Should prioritize getting high demands.\n"
      ],
      "metadata": {
        "id": "VuqM9vyEjaHn"
      }
    }
  ]
}